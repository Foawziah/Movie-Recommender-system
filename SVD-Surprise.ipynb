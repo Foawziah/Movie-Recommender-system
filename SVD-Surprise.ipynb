{
 "cells": [
  {
   "cell_type": "code",
   "execution_count": 2,
   "id": "370aca4c",
   "metadata": {},
   "outputs": [],
   "source": [
    "import pandas as pd\n",
    "import numpy as np\n",
    "from surprise import Reader\n",
    "from surprise import accuracy\n",
    "from sklearn.decomposition import NMF\n",
    "from surprise.prediction_algorithms.random_pred import NormalPredictor\n",
    "import seaborn as sns\n",
    "from surprise.model_selection.split import train_test_split\n",
    "from surprise import SVD\n",
    "from surprise import Dataset\n",
    "from surprise.model_selection import GridSearchCV\n",
    "from surprise import NormalPredictor\n",
    "from surprise import KNNBasic\n",
    "from surprise.model_selection import cross_validate\n",
    "import matplotlib.pyplot as plt\n",
    "from sklearn.metrics.pairwise import cosine_similarity\n"
   ]
  },
  {
   "cell_type": "code",
   "execution_count": 3,
   "id": "6e0db99d",
   "metadata": {
    "scrolled": false
   },
   "outputs": [
    {
     "data": {
      "text/html": [
       "<div>\n",
       "<style scoped>\n",
       "    .dataframe tbody tr th:only-of-type {\n",
       "        vertical-align: middle;\n",
       "    }\n",
       "\n",
       "    .dataframe tbody tr th {\n",
       "        vertical-align: top;\n",
       "    }\n",
       "\n",
       "    .dataframe thead th {\n",
       "        text-align: right;\n",
       "    }\n",
       "</style>\n",
       "<table border=\"1\" class=\"dataframe\">\n",
       "  <thead>\n",
       "    <tr style=\"text-align: right;\">\n",
       "      <th></th>\n",
       "      <th>movieId</th>\n",
       "      <th>title</th>\n",
       "      <th>genres</th>\n",
       "    </tr>\n",
       "  </thead>\n",
       "  <tbody>\n",
       "    <tr>\n",
       "      <th>0</th>\n",
       "      <td>1</td>\n",
       "      <td>Toy Story (1995)</td>\n",
       "      <td>Adventure|Animation|Children|Comedy|Fantasy</td>\n",
       "    </tr>\n",
       "    <tr>\n",
       "      <th>1</th>\n",
       "      <td>2</td>\n",
       "      <td>Jumanji (1995)</td>\n",
       "      <td>Adventure|Children|Fantasy</td>\n",
       "    </tr>\n",
       "    <tr>\n",
       "      <th>2</th>\n",
       "      <td>3</td>\n",
       "      <td>Grumpier Old Men (1995)</td>\n",
       "      <td>Comedy|Romance</td>\n",
       "    </tr>\n",
       "    <tr>\n",
       "      <th>3</th>\n",
       "      <td>4</td>\n",
       "      <td>Waiting to Exhale (1995)</td>\n",
       "      <td>Comedy|Drama|Romance</td>\n",
       "    </tr>\n",
       "    <tr>\n",
       "      <th>4</th>\n",
       "      <td>5</td>\n",
       "      <td>Father of the Bride Part II (1995)</td>\n",
       "      <td>Comedy</td>\n",
       "    </tr>\n",
       "    <tr>\n",
       "      <th>...</th>\n",
       "      <td>...</td>\n",
       "      <td>...</td>\n",
       "      <td>...</td>\n",
       "    </tr>\n",
       "    <tr>\n",
       "      <th>9737</th>\n",
       "      <td>193581</td>\n",
       "      <td>Black Butler: Book of the Atlantic (2017)</td>\n",
       "      <td>Action|Animation|Comedy|Fantasy</td>\n",
       "    </tr>\n",
       "    <tr>\n",
       "      <th>9738</th>\n",
       "      <td>193583</td>\n",
       "      <td>No Game No Life: Zero (2017)</td>\n",
       "      <td>Animation|Comedy|Fantasy</td>\n",
       "    </tr>\n",
       "    <tr>\n",
       "      <th>9739</th>\n",
       "      <td>193585</td>\n",
       "      <td>Flint (2017)</td>\n",
       "      <td>Drama</td>\n",
       "    </tr>\n",
       "    <tr>\n",
       "      <th>9740</th>\n",
       "      <td>193587</td>\n",
       "      <td>Bungo Stray Dogs: Dead Apple (2018)</td>\n",
       "      <td>Action|Animation</td>\n",
       "    </tr>\n",
       "    <tr>\n",
       "      <th>9741</th>\n",
       "      <td>193609</td>\n",
       "      <td>Andrew Dice Clay: Dice Rules (1991)</td>\n",
       "      <td>Comedy</td>\n",
       "    </tr>\n",
       "  </tbody>\n",
       "</table>\n",
       "<p>9742 rows × 3 columns</p>\n",
       "</div>"
      ],
      "text/plain": [
       "      movieId                                      title  \\\n",
       "0           1                           Toy Story (1995)   \n",
       "1           2                             Jumanji (1995)   \n",
       "2           3                    Grumpier Old Men (1995)   \n",
       "3           4                   Waiting to Exhale (1995)   \n",
       "4           5         Father of the Bride Part II (1995)   \n",
       "...       ...                                        ...   \n",
       "9737   193581  Black Butler: Book of the Atlantic (2017)   \n",
       "9738   193583               No Game No Life: Zero (2017)   \n",
       "9739   193585                               Flint (2017)   \n",
       "9740   193587        Bungo Stray Dogs: Dead Apple (2018)   \n",
       "9741   193609        Andrew Dice Clay: Dice Rules (1991)   \n",
       "\n",
       "                                           genres  \n",
       "0     Adventure|Animation|Children|Comedy|Fantasy  \n",
       "1                      Adventure|Children|Fantasy  \n",
       "2                                  Comedy|Romance  \n",
       "3                            Comedy|Drama|Romance  \n",
       "4                                          Comedy  \n",
       "...                                           ...  \n",
       "9737              Action|Animation|Comedy|Fantasy  \n",
       "9738                     Animation|Comedy|Fantasy  \n",
       "9739                                        Drama  \n",
       "9740                             Action|Animation  \n",
       "9741                                       Comedy  \n",
       "\n",
       "[9742 rows x 3 columns]"
      ]
     },
     "execution_count": 3,
     "metadata": {},
     "output_type": "execute_result"
    }
   ],
   "source": [
    "movies = pd.read_csv(\"movies.csv\",index_col=0)\n",
    "ratings = pd.read_csv(\"ratings.csv\",index_col=0)\n",
    "\n",
    "# Reset the index to move movieId to a regular column\n",
    "movies = movies.reset_index()\n",
    "ratings = ratings.reset_index()\n",
    "\n",
    "# Print the first 10 rows of the DataFrame to check the result\n",
    "ratings.fillna(0)\n",
    "movies.fillna(0)"
   ]
  },
  {
   "cell_type": "code",
   "execution_count": 13,
   "id": "3ccf2f4b",
   "metadata": {},
   "outputs": [
    {
     "name": "stderr",
     "output_type": "stream",
     "text": [
      "/var/folders/nc/b_ldy2zn4bzbz50rlxp5mk280000gn/T/ipykernel_55272/3634673117.py:20: FutureWarning: The frame.append method is deprecated and will be removed from pandas in a future version. Use pandas.concat instead.\n",
      "  updated_ratings = ratings.append(new_user_ratings)\n"
     ]
    },
    {
     "name": "stdout",
     "output_type": "stream",
     "text": [
      "                                                 title  predicted_rating\n",
      "0                                     Toy Story (1995)          1.157230\n",
      "9                                     GoldenEye (1995)          1.078134\n",
      "5                                          Heat (1995)          0.995420\n",
      "910  Star Wars: Episode VI - Return of the Jedi (1983)          0.401780\n",
      "899  Raiders of the Lost Ark (Indiana Jones and the...          0.386580\n",
      "..                                                 ...               ...\n",
      "84                                 Broken Arrow (1996)         -0.294319\n",
      "4                   Father of the Bride Part II (1995)         -0.351121\n",
      "7                                  Tom and Huck (1995)         -0.516481\n",
      "1                                       Jumanji (1995)         -0.657062\n",
      "2                              Grumpier Old Men (1995)         -0.767475\n",
      "\n",
      "[9724 rows x 2 columns]\n"
     ]
    }
   ],
   "source": [
    "from sklearn.metrics.pairwise import cosine_similarity\n",
    "\n",
    "def predict_new_user_ratings(movies, ratings, new_ratings):\n",
    "    \"\"\"\n",
    "    Given a set of new ratings for a new user, predicts the rating that the user would give to each movie.\n",
    "\n",
    "    Parameters:\n",
    "    movies (pd.DataFrame): DataFrame containing movie data, with columns \"movieId\", \"title\", and \"genres\".\n",
    "    ratings (pd.DataFrame): DataFrame containing movie ratings data, with columns \"userId\", \"movieId\", and \"rating\".\n",
    "    new_ratings (list): List of tuples representing the new user's ratings, with each tuple containing the movie ID and the rating.\n",
    "\n",
    "    Returns:\n",
    "    pd.DataFrame: DataFrame containing the predicted ratings for the new user, with columns \"title\" and \"predicted_rating\".\n",
    "    \"\"\"\n",
    "    # Convert new_ratings to a DataFrame\n",
    "    new_user_ratings = pd.DataFrame(new_ratings, columns=[\"movieId\", \"rating\"])\n",
    "    # Set the user ID to a value that does not exist in the ratings DataFrame\n",
    "    new_user_ratings[\"userId\"] = ratings[\"userId\"].max() + 1\n",
    "    # Append new_user_ratings to ratings\n",
    "    updated_ratings = ratings.append(new_user_ratings)\n",
    "\n",
    "    # Pivot the ratings DataFrame to get a user-movie matrix\n",
    "    pivot = updated_ratings.pivot(index=\"userId\", columns=\"movieId\", values=\"rating\")\n",
    "    normalized_pivot = pivot.apply(lambda x: (x - x.mean()) / x.std(), axis=1)\n",
    "\n",
    "    # Calculate cosine similarity between users\n",
    "    cosine_sim = cosine_similarity(normalized_pivot.fillna(0).values)\n",
    "\n",
    "    # Get the new user's ratings\n",
    "    new_user_ratings = pivot.iloc[-1].fillna(0)\n",
    "\n",
    "    # Calculate weighted average of ratings for each movie\n",
    "    weighted_ratings = np.dot(cosine_sim[-1], normalized_pivot.fillna(0)) / np.sum(cosine_sim[-1])\n",
    "    predicted_ratings = pd.DataFrame({'movieId': normalized_pivot.columns, 'predicted_rating': weighted_ratings})\n",
    "\n",
    "    # Merge predicted_ratings with movies DataFrame to get movie titles\n",
    "    predicted_ratings = predicted_ratings.merge(movies[['movieId', 'title']], on='movieId')\n",
    "\n",
    "    # Return predicted_ratings DataFrame sorted by predicted rating in descending order\n",
    "    return predicted_ratings[['title', 'predicted_rating']].sort_values('predicted_rating', ascending=False)\n",
    "\n",
    "\n",
    "# Example usage:\n",
    "movies = pd.read_csv('movies.csv')\n",
    "ratings = pd.read_csv('ratings.csv')\n",
    "new_ratings = [(1, 4.5), (2, 3.0), (3, 2.5), (4, 4.0), (5, 3.5), (6, 5.0), (7, 4.0), (8, 2.0), (9, 4.5), (10, 5.0)]\n",
    "predictions = predict_new_user_ratings(movies, ratings, new_ratings)\n",
    "print(predictions)\n"
   ]
  },
  {
   "cell_type": "code",
   "execution_count": 41,
   "id": "bd71ce0d",
   "metadata": {},
   "outputs": [
    {
     "name": "stderr",
     "output_type": "stream",
     "text": [
      "/var/folders/nc/b_ldy2zn4bzbz50rlxp5mk280000gn/T/ipykernel_55272/571957131.py:2: FutureWarning: The default value of regex will change from True to False in a future version.\n",
      "  movies_merged['title'] = movies_merged['title'].str.replace('[^\\w\\s]',' ')\n",
      "/var/folders/nc/b_ldy2zn4bzbz50rlxp5mk280000gn/T/ipykernel_55272/571957131.py:3: FutureWarning: The default value of regex will change from True to False in a future version.\n",
      "  movies_merged['genres'] = movies_merged['genres'].str.replace('[^\\w\\s]',' ')\n",
      "/var/folders/nc/b_ldy2zn4bzbz50rlxp5mk280000gn/T/ipykernel_55272/571957131.py:4: FutureWarning: The default value of regex will change from True to False in a future version.\n",
      "  movies_merged['title'] = movies_merged['title'].str.replace('[^\\w\\s]',' ')\n",
      "/var/folders/nc/b_ldy2zn4bzbz50rlxp5mk280000gn/T/ipykernel_55272/571957131.py:5: FutureWarning: The default value of regex will change from True to False in a future version.\n",
      "  movies_merged['userId'] = movies_merged['userId'].astype(str).str.replace('[^\\w\\s]','')\n",
      "/var/folders/nc/b_ldy2zn4bzbz50rlxp5mk280000gn/T/ipykernel_55272/571957131.py:6: FutureWarning: The default value of regex will change from True to False in a future version.\n",
      "  movies_merged['rating'] = movies_merged['rating'].astype(str).str.replace('[^\\w\\s]','')\n"
     ]
    }
   ],
   "source": [
    "# replace punctuation in tags (a space), movie name (a space), and genres (no space). These will eventually be folded into the tags list\n",
    "movies_merged['title'] = movies_merged['title'].str.replace('[^\\w\\s]',' ')\n",
    "movies_merged['genres'] = movies_merged['genres'].str.replace('[^\\w\\s]',' ')\n",
    "movies_merged['title'] = movies_merged['title'].str.replace('[^\\w\\s]',' ')\n",
    "movies_merged['userId'] = movies_merged['userId'].astype(str).str.replace('[^\\w\\s]','')\n",
    "movies_merged['rating'] = movies_merged['rating'].astype(str).str.replace('[^\\w\\s]','')\n",
    "\n"
   ]
  },
  {
   "cell_type": "code",
   "execution_count": 29,
   "id": "7fe69961",
   "metadata": {},
   "outputs": [
    {
     "data": {
      "text/html": [
       "<div>\n",
       "<style scoped>\n",
       "    .dataframe tbody tr th:only-of-type {\n",
       "        vertical-align: middle;\n",
       "    }\n",
       "\n",
       "    .dataframe tbody tr th {\n",
       "        vertical-align: top;\n",
       "    }\n",
       "\n",
       "    .dataframe thead th {\n",
       "        text-align: right;\n",
       "    }\n",
       "</style>\n",
       "<table border=\"1\" class=\"dataframe\">\n",
       "  <thead>\n",
       "    <tr style=\"text-align: right;\">\n",
       "      <th></th>\n",
       "      <th>movieId</th>\n",
       "      <th>title</th>\n",
       "      <th>genres</th>\n",
       "    </tr>\n",
       "  </thead>\n",
       "  <tbody>\n",
       "    <tr>\n",
       "      <th>0</th>\n",
       "      <td>1</td>\n",
       "      <td>Toy Story  1995</td>\n",
       "      <td>Adventure Animation Children Comedy Fantasy</td>\n",
       "    </tr>\n",
       "    <tr>\n",
       "      <th>1</th>\n",
       "      <td>2</td>\n",
       "      <td>Jumanji  1995</td>\n",
       "      <td>Adventure Children Fantasy</td>\n",
       "    </tr>\n",
       "    <tr>\n",
       "      <th>2</th>\n",
       "      <td>3</td>\n",
       "      <td>Grumpier Old Men  1995</td>\n",
       "      <td>Comedy Romance</td>\n",
       "    </tr>\n",
       "    <tr>\n",
       "      <th>3</th>\n",
       "      <td>4</td>\n",
       "      <td>Waiting to Exhale  1995</td>\n",
       "      <td>Comedy Drama Romance</td>\n",
       "    </tr>\n",
       "    <tr>\n",
       "      <th>4</th>\n",
       "      <td>5</td>\n",
       "      <td>Father of the Bride Part II  1995</td>\n",
       "      <td>Comedy</td>\n",
       "    </tr>\n",
       "  </tbody>\n",
       "</table>\n",
       "</div>"
      ],
      "text/plain": [
       "   movieId                               title  \\\n",
       "0        1                    Toy Story  1995    \n",
       "1        2                      Jumanji  1995    \n",
       "2        3             Grumpier Old Men  1995    \n",
       "3        4            Waiting to Exhale  1995    \n",
       "4        5  Father of the Bride Part II  1995    \n",
       "\n",
       "                                        genres  \n",
       "0  Adventure Animation Children Comedy Fantasy  \n",
       "1                   Adventure Children Fantasy  \n",
       "2                               Comedy Romance  \n",
       "3                         Comedy Drama Romance  \n",
       "4                                       Comedy  "
      ]
     },
     "execution_count": 29,
     "metadata": {},
     "output_type": "execute_result"
    }
   ],
   "source": [
    "movies.head()"
   ]
  },
  {
   "cell_type": "code",
   "execution_count": 43,
   "id": "537afcca",
   "metadata": {},
   "outputs": [
    {
     "data": {
      "text/html": [
       "<div>\n",
       "<style scoped>\n",
       "    .dataframe tbody tr th:only-of-type {\n",
       "        vertical-align: middle;\n",
       "    }\n",
       "\n",
       "    .dataframe tbody tr th {\n",
       "        vertical-align: top;\n",
       "    }\n",
       "\n",
       "    .dataframe thead th {\n",
       "        text-align: right;\n",
       "    }\n",
       "</style>\n",
       "<table border=\"1\" class=\"dataframe\">\n",
       "  <thead>\n",
       "    <tr style=\"text-align: right;\">\n",
       "      <th></th>\n",
       "      <th>movieId</th>\n",
       "      <th>rating</th>\n",
       "      <th>title</th>\n",
       "      <th>genres</th>\n",
       "    </tr>\n",
       "  </thead>\n",
       "  <tbody>\n",
       "  </tbody>\n",
       "</table>\n",
       "</div>"
      ],
      "text/plain": [
       "Empty DataFrame\n",
       "Columns: [movieId, rating, title, genres]\n",
       "Index: []"
      ]
     },
     "execution_count": 43,
     "metadata": {},
     "output_type": "execute_result"
    }
   ],
   "source": [
    "pd.set_option('display.max_rows', None)\n",
    "movies_merged.loc[movies_merged['title'] != movies_merged['title'], ['movieId','rating','title','genres']].head(200)"
   ]
  },
  {
   "cell_type": "code",
   "execution_count": null,
   "id": "ea520b54",
   "metadata": {},
   "outputs": [],
   "source": [
    "movies_merged"
   ]
  },
  {
   "cell_type": "code",
   "execution_count": null,
   "id": "c3a3e059",
   "metadata": {},
   "outputs": [],
   "source": []
  },
  {
   "cell_type": "code",
   "execution_count": 6,
   "id": "4cb13cec",
   "metadata": {},
   "outputs": [],
   "source": [
    "ratings = ratings.reset_index()\n"
   ]
  },
  {
   "cell_type": "code",
   "execution_count": 42,
   "id": "27d147c7",
   "metadata": {},
   "outputs": [
    {
     "name": "stdout",
     "output_type": "stream",
     "text": [
      "   movieId                               title  \\\n",
      "0        1                    Toy Story (1995)   \n",
      "1        2                      Jumanji (1995)   \n",
      "2        3             Grumpier Old Men (1995)   \n",
      "3        4            Waiting to Exhale (1995)   \n",
      "4        5  Father of the Bride Part II (1995)   \n",
      "5        6                         Heat (1995)   \n",
      "6        7                      Sabrina (1995)   \n",
      "7        8                 Tom and Huck (1995)   \n",
      "8        9                 Sudden Death (1995)   \n",
      "9       10                    GoldenEye (1995)   \n",
      "\n",
      "                                        genres  year  \n",
      "0  Adventure|Animation|Children|Comedy|Fantasy  1995  \n",
      "1                   Adventure|Children|Fantasy  1995  \n",
      "2                               Comedy|Romance  1995  \n",
      "3                         Comedy|Drama|Romance  1995  \n",
      "4                                       Comedy  1995  \n",
      "5                        Action|Crime|Thriller  1995  \n",
      "6                               Comedy|Romance  1995  \n",
      "7                           Adventure|Children  1995  \n",
      "8                                       Action  1995  \n",
      "9                    Action|Adventure|Thriller  1995  \n"
     ]
    }
   ],
   "source": [
    "\n",
    "# Extract the year from the title column using a regular expression\n",
    "movies['year'] = movies['title'].str.extract('\\((\\d{4})\\)', expand=False)\n",
    "\n",
    "# Print the first 10 rows of the DataFrame to check the result\n",
    "print(movies.head(10))"
   ]
  },
  {
   "cell_type": "markdown",
   "id": "0be4b9d6",
   "metadata": {},
   "source": [
    "## PreProcessing"
   ]
  },
  {
   "cell_type": "code",
   "execution_count": 5,
   "id": "14827df5",
   "metadata": {},
   "outputs": [],
   "source": [
    "# min_ratings = 2 \n",
    "# min_ratings_count =  5 \n",
    "# # Delete movie rated under 2 \n",
    "# # Delete movie rated less than 5 times\n",
    "# movies = movies.groupby(\"movieId\").filter(lambda x: x['movieId'].count() >= min_ratings)\n",
    "# ratings = ratings.groupby(\"userId\").filter(lambda x: x['userId'].count() >= min_ratings_count)\n"
   ]
  },
  {
   "cell_type": "code",
   "execution_count": 6,
   "id": "552df335",
   "metadata": {},
   "outputs": [
    {
     "data": {
      "text/plain": [
       "(100836, 4)"
      ]
     },
     "execution_count": 6,
     "metadata": {},
     "output_type": "execute_result"
    }
   ],
   "source": [
    "ratings.shape"
   ]
  },
  {
   "cell_type": "code",
   "execution_count": 7,
   "id": "a6a8ddd6",
   "metadata": {},
   "outputs": [
    {
     "data": {
      "text/plain": [
       "(9742, 4)"
      ]
     },
     "execution_count": 7,
     "metadata": {},
     "output_type": "execute_result"
    }
   ],
   "source": [
    "movies.shape"
   ]
  },
  {
   "cell_type": "code",
   "execution_count": 8,
   "id": "6f3de949",
   "metadata": {},
   "outputs": [],
   "source": [
    "#!pip install scikit-surprise"
   ]
  },
  {
   "cell_type": "markdown",
   "id": "1eec5d8d",
   "metadata": {},
   "source": [
    "### Train on a whole trainset and the predict() method"
   ]
  },
  {
   "cell_type": "code",
   "execution_count": 9,
   "id": "2e4a3bd4",
   "metadata": {},
   "outputs": [],
   "source": [
    "reader = Reader(rating_scale=(0.5, 5)) #line_format by default order of the fields\n",
    "\n",
    "# Surprise Dataset Load method\n",
    "data = Dataset.load_from_df(ratings[[\"userId\",\"movieId\",\"rating\"]], reader=reader)\n",
    "\n",
    "trainset = data.build_full_trainset()\n",
    "\n",
    "testset = trainset.build_anti_testset()\n"
   ]
  },
  {
   "cell_type": "code",
   "execution_count": 10,
   "id": "e283dd77",
   "metadata": {},
   "outputs": [
    {
     "data": {
      "text/plain": [
       "<surprise.trainset.Trainset at 0x7f7f9902fe50>"
      ]
     },
     "execution_count": 10,
     "metadata": {},
     "output_type": "execute_result"
    }
   ],
   "source": [
    "trainset"
   ]
  },
  {
   "cell_type": "markdown",
   "id": "deac777c",
   "metadata": {},
   "source": [
    "### Tune algorithm parameters with GridSearchCV\n",
    "I use the SVD algorithm from the Surprise library to make predictions on the MovieLens 100K dataset. I define a grid of hyperparameters to search over, and then use GridSearchCV to perform the search. GridSearchCV performs a 3-fold cross-validation for each combination of hyperparameters and computes the RMSE and MAE scores. Finally, it returns the best set of hyperparameters and the corresponding RMSE and MAE scores."
   ]
  },
  {
   "cell_type": "code",
   "execution_count": 11,
   "id": "0e9c5165",
   "metadata": {},
   "outputs": [],
   "source": [
    " ## checking the effect of number of latent factors k on the model's performance.\n",
    "def rmse_vs_factors(algorithm, data):\n",
    "    \"\"\"Returns: rmse_algorithm i.e. a list of mean RMSE of CV = 5 in cross_validate() for each  factor k in range(1, 101, 1) 100 values \n",
    "    Arg:  i.) algorithm = Matrix factoization algorithm, e.g SVD/NMF/PMF, ii.)  data = surprise.dataset.DatasetAutoFolds\n",
    "    \"\"\"\n",
    "    rmse_algorithm = []\n",
    "    \n",
    "    for k in range(1, 101, 1):\n",
    "        algo = algorithm(n_factors = k)\n",
    "\n",
    "        #[\"test_rmse\"] is a numpy array with min accuracy value for each testset\n",
    "        loss_fce = cross_validate(algo, data, measures=['RMSE'], cv=5, verbose=False)[\"test_rmse\"].mean() \n",
    "        rmse_algorithm.append(loss_fce)\n",
    "  \n",
    "    return rmse_algorithm\n"
   ]
  },
  {
   "cell_type": "code",
   "execution_count": 12,
   "id": "0e8130db",
   "metadata": {
    "scrolled": true
   },
   "outputs": [],
   "source": [
    "#rmse_svd = rmse_vs_factors(SVD,data)\n",
    "#rmse_svd"
   ]
  },
  {
   "cell_type": "code",
   "execution_count": 13,
   "id": "44f2874c",
   "metadata": {},
   "outputs": [],
   "source": [
    "def plot_rmse(rmse, algorithm):\n",
    "    plt.figure(num=None, figsize=(11, 5), dpi=80, facecolor='w', edgecolor='k')\n",
    "        \n",
    "    plt.subplot(2,1,1)\n",
    "    plt.plot(rmse)\n",
    "    plt.xlim(0,100)\n",
    "    plt.title(\"{0} Performance: RMSE Against Number of Factors\".format(algorithm), size = 20 )\n",
    "    plt.ylabel(\"Mean RMSE (cv=5)\")\n",
    "\n",
    "    plt.subplot(2,1,2)\n",
    "    plt.plot(rmse)\n",
    "    plt.xlim(0,50)\n",
    "    plt.xticks(np.arange(0, 52, step=2))\n",
    "\n",
    "    plt.xlabel(\"{0}(n_factor = k)\".format(algorithm))\n",
    "    plt.ylabel(\"Mean RMSE (cv=5)\")\n",
    "    plt.axvline(np.argmin(rmse), color = \"b\")\n"
   ]
  },
  {
   "cell_type": "code",
   "execution_count": 14,
   "id": "b0989852",
   "metadata": {},
   "outputs": [],
   "source": [
    "#plot_rmse(rmse_svd,\"SVD\")"
   ]
  },
  {
   "cell_type": "code",
   "execution_count": 15,
   "id": "2e69575e",
   "metadata": {},
   "outputs": [],
   "source": [
    "from collections import defaultdict"
   ]
  },
  {
   "cell_type": "markdown",
   "id": "6784e435",
   "metadata": {},
   "source": [
    "### Predictions using function "
   ]
  },
  {
   "cell_type": "code",
   "execution_count": 16,
   "id": "61d3752e",
   "metadata": {},
   "outputs": [],
   "source": [
    "# Define the testset\n",
    "testset = data.build_full_trainset().build_testset()\n",
    "# Train the SVD model\n",
    "svd = SVD(n_factors=100, n_epochs=20, lr_all=0.005, reg_all=0.4)\n",
    "svd.fit(trainset)\n",
    "# Generate the predictions using the SVD model\n",
    "predictions = svd.test(testset)\n"
   ]
  },
  {
   "cell_type": "code",
   "execution_count": 18,
   "id": "b899f982",
   "metadata": {},
   "outputs": [],
   "source": [
    "def get_top_n(predictions, userId, movies, ratings, n = 10):\n",
    "    '''Return the top N (default) movieId for a user,.i.e. userID and history for comparisom\n",
    "    Args:\n",
    "    Returns: \n",
    "  \n",
    "    '''\n",
    "    \n",
    "    #First map the predictions to each user.\n",
    "    top_n = defaultdict(list)\n",
    "    for uid, iid, true_r, est, _ in predictions:\n",
    "        top_n[uid].append((iid, est))\n",
    "\n",
    "    #Then sort the predictions for each user and retrieve the k highest ones.\n",
    "    for uid, user_ratings in top_n.items():\n",
    "        user_ratings.sort(key = lambda x: x[1], reverse = True)\n",
    "        top_n[uid] = user_ratings[: n ]\n",
    "    \n",
    "    \n",
    "    #Tells how many movies the user has already rated\n",
    "    user_data = ratings[ratings.userId == (userId)]\n",
    "    print('User {0} has already rated {1} movies.'.format(userId, user_data.shape[0]))\n",
    "\n",
    "    \n",
    "    #4. Data Frame with predictions. \n",
    "    preds_df = pd.DataFrame([(id, pair[0],pair[1]) for id, row in top_n.items() for pair in row],\n",
    "                        columns=[\"userId\" ,\"movieId\",\"rat_pred\"])\n",
    "    \n",
    "    \n",
    "    #Return pred_usr, i.e. top N recommended movies with (merged) titles and genres. \n",
    "    pred_usr = preds_df[preds_df[\"userId\"] == (userId)].merge(movies, how = 'left', left_on = 'movieId', right_on = 'movieId')\n",
    "            \n",
    "    #Return hist_usr, i.e. top N historically rated movies with (merged) titles and genres for holistic evaluation\n",
    "    old_usr = ratings[ratings.userId == (userId) ].sort_values(\"rating\", ascending = False).merge\\\n",
    "    (movies, how = 'left', left_on = 'movieId', right_on = 'movieId')\n",
    "    \n",
    "    \n",
    "    return old_usr, pred_usr"
   ]
  },
  {
   "cell_type": "code",
   "execution_count": 20,
   "id": "a854588e",
   "metadata": {},
   "outputs": [
    {
     "name": "stdout",
     "output_type": "stream",
     "text": [
      "User 1 has already rated 232 movies.\n"
     ]
    }
   ],
   "source": [
    "old_SVD, pred_SVD = get_top_n(predictions, movies = movies, userId = 1, ratings = ratings)"
   ]
  },
  {
   "cell_type": "code",
   "execution_count": 21,
   "id": "810cb9fd",
   "metadata": {},
   "outputs": [
    {
     "data": {
      "text/html": [
       "<div>\n",
       "<style scoped>\n",
       "    .dataframe tbody tr th:only-of-type {\n",
       "        vertical-align: middle;\n",
       "    }\n",
       "\n",
       "    .dataframe tbody tr th {\n",
       "        vertical-align: top;\n",
       "    }\n",
       "\n",
       "    .dataframe thead th {\n",
       "        text-align: right;\n",
       "    }\n",
       "</style>\n",
       "<table border=\"1\" class=\"dataframe\">\n",
       "  <thead>\n",
       "    <tr style=\"text-align: right;\">\n",
       "      <th></th>\n",
       "      <th>userId</th>\n",
       "      <th>movieId</th>\n",
       "      <th>rating</th>\n",
       "      <th>timestamp</th>\n",
       "      <th>title</th>\n",
       "      <th>genres</th>\n",
       "      <th>year</th>\n",
       "    </tr>\n",
       "  </thead>\n",
       "  <tbody>\n",
       "    <tr>\n",
       "      <th>0</th>\n",
       "      <td>1</td>\n",
       "      <td>5060</td>\n",
       "      <td>5.0</td>\n",
       "      <td>964984002</td>\n",
       "      <td>M*A*S*H (a.k.a. MASH) (1970)</td>\n",
       "      <td>Comedy|Drama|War</td>\n",
       "      <td>1970</td>\n",
       "    </tr>\n",
       "    <tr>\n",
       "      <th>1</th>\n",
       "      <td>1</td>\n",
       "      <td>2872</td>\n",
       "      <td>5.0</td>\n",
       "      <td>964981680</td>\n",
       "      <td>Excalibur (1981)</td>\n",
       "      <td>Adventure|Fantasy</td>\n",
       "      <td>1981</td>\n",
       "    </tr>\n",
       "    <tr>\n",
       "      <th>2</th>\n",
       "      <td>1</td>\n",
       "      <td>1291</td>\n",
       "      <td>5.0</td>\n",
       "      <td>964981909</td>\n",
       "      <td>Indiana Jones and the Last Crusade (1989)</td>\n",
       "      <td>Action|Adventure</td>\n",
       "      <td>1989</td>\n",
       "    </tr>\n",
       "    <tr>\n",
       "      <th>3</th>\n",
       "      <td>1</td>\n",
       "      <td>1298</td>\n",
       "      <td>5.0</td>\n",
       "      <td>964984086</td>\n",
       "      <td>Pink Floyd: The Wall (1982)</td>\n",
       "      <td>Drama|Musical</td>\n",
       "      <td>1982</td>\n",
       "    </tr>\n",
       "    <tr>\n",
       "      <th>4</th>\n",
       "      <td>1</td>\n",
       "      <td>2948</td>\n",
       "      <td>5.0</td>\n",
       "      <td>964982191</td>\n",
       "      <td>From Russia with Love (1963)</td>\n",
       "      <td>Action|Adventure|Thriller</td>\n",
       "      <td>1963</td>\n",
       "    </tr>\n",
       "    <tr>\n",
       "      <th>5</th>\n",
       "      <td>1</td>\n",
       "      <td>2947</td>\n",
       "      <td>5.0</td>\n",
       "      <td>964982176</td>\n",
       "      <td>Goldfinger (1964)</td>\n",
       "      <td>Action|Adventure|Thriller</td>\n",
       "      <td>1964</td>\n",
       "    </tr>\n",
       "    <tr>\n",
       "      <th>6</th>\n",
       "      <td>1</td>\n",
       "      <td>2944</td>\n",
       "      <td>5.0</td>\n",
       "      <td>964981872</td>\n",
       "      <td>Dirty Dozen, The (1967)</td>\n",
       "      <td>Action|Drama|War</td>\n",
       "      <td>1967</td>\n",
       "    </tr>\n",
       "    <tr>\n",
       "      <th>7</th>\n",
       "      <td>1</td>\n",
       "      <td>2899</td>\n",
       "      <td>5.0</td>\n",
       "      <td>964982703</td>\n",
       "      <td>Gulliver's Travels (1939)</td>\n",
       "      <td>Adventure|Animation|Children</td>\n",
       "      <td>1939</td>\n",
       "    </tr>\n",
       "    <tr>\n",
       "      <th>8</th>\n",
       "      <td>1</td>\n",
       "      <td>2858</td>\n",
       "      <td>5.0</td>\n",
       "      <td>964980868</td>\n",
       "      <td>American Beauty (1999)</td>\n",
       "      <td>Drama|Romance</td>\n",
       "      <td>1999</td>\n",
       "    </tr>\n",
       "    <tr>\n",
       "      <th>9</th>\n",
       "      <td>1</td>\n",
       "      <td>2700</td>\n",
       "      <td>5.0</td>\n",
       "      <td>964980985</td>\n",
       "      <td>South Park: Bigger, Longer and Uncut (1999)</td>\n",
       "      <td>Animation|Comedy|Musical</td>\n",
       "      <td>1999</td>\n",
       "    </tr>\n",
       "    <tr>\n",
       "      <th>10</th>\n",
       "      <td>1</td>\n",
       "      <td>1517</td>\n",
       "      <td>5.0</td>\n",
       "      <td>964981107</td>\n",
       "      <td>Austin Powers: International Man of Mystery (1...</td>\n",
       "      <td>Action|Adventure|Comedy</td>\n",
       "      <td>1997</td>\n",
       "    </tr>\n",
       "    <tr>\n",
       "      <th>11</th>\n",
       "      <td>1</td>\n",
       "      <td>1573</td>\n",
       "      <td>5.0</td>\n",
       "      <td>964982290</td>\n",
       "      <td>Face/Off (1997)</td>\n",
       "      <td>Action|Crime|Drama|Thriller</td>\n",
       "      <td>1997</td>\n",
       "    </tr>\n",
       "    <tr>\n",
       "      <th>12</th>\n",
       "      <td>1</td>\n",
       "      <td>1587</td>\n",
       "      <td>5.0</td>\n",
       "      <td>964982346</td>\n",
       "      <td>Conan the Barbarian (1982)</td>\n",
       "      <td>Action|Adventure|Fantasy</td>\n",
       "      <td>1982</td>\n",
       "    </tr>\n",
       "    <tr>\n",
       "      <th>13</th>\n",
       "      <td>1</td>\n",
       "      <td>1617</td>\n",
       "      <td>5.0</td>\n",
       "      <td>964982951</td>\n",
       "      <td>L.A. Confidential (1997)</td>\n",
       "      <td>Crime|Film-Noir|Mystery|Thriller</td>\n",
       "      <td>1997</td>\n",
       "    </tr>\n",
       "    <tr>\n",
       "      <th>14</th>\n",
       "      <td>1</td>\n",
       "      <td>2761</td>\n",
       "      <td>5.0</td>\n",
       "      <td>964982703</td>\n",
       "      <td>Iron Giant, The (1999)</td>\n",
       "      <td>Adventure|Animation|Children|Drama|Sci-Fi</td>\n",
       "      <td>1999</td>\n",
       "    </tr>\n",
       "  </tbody>\n",
       "</table>\n",
       "</div>"
      ],
      "text/plain": [
       "    userId  movieId  rating  timestamp  \\\n",
       "0        1     5060     5.0  964984002   \n",
       "1        1     2872     5.0  964981680   \n",
       "2        1     1291     5.0  964981909   \n",
       "3        1     1298     5.0  964984086   \n",
       "4        1     2948     5.0  964982191   \n",
       "5        1     2947     5.0  964982176   \n",
       "6        1     2944     5.0  964981872   \n",
       "7        1     2899     5.0  964982703   \n",
       "8        1     2858     5.0  964980868   \n",
       "9        1     2700     5.0  964980985   \n",
       "10       1     1517     5.0  964981107   \n",
       "11       1     1573     5.0  964982290   \n",
       "12       1     1587     5.0  964982346   \n",
       "13       1     1617     5.0  964982951   \n",
       "14       1     2761     5.0  964982703   \n",
       "\n",
       "                                                title  \\\n",
       "0                        M*A*S*H (a.k.a. MASH) (1970)   \n",
       "1                                    Excalibur (1981)   \n",
       "2           Indiana Jones and the Last Crusade (1989)   \n",
       "3                         Pink Floyd: The Wall (1982)   \n",
       "4                        From Russia with Love (1963)   \n",
       "5                                   Goldfinger (1964)   \n",
       "6                             Dirty Dozen, The (1967)   \n",
       "7                           Gulliver's Travels (1939)   \n",
       "8                              American Beauty (1999)   \n",
       "9         South Park: Bigger, Longer and Uncut (1999)   \n",
       "10  Austin Powers: International Man of Mystery (1...   \n",
       "11                                    Face/Off (1997)   \n",
       "12                         Conan the Barbarian (1982)   \n",
       "13                           L.A. Confidential (1997)   \n",
       "14                             Iron Giant, The (1999)   \n",
       "\n",
       "                                       genres  year  \n",
       "0                            Comedy|Drama|War  1970  \n",
       "1                           Adventure|Fantasy  1981  \n",
       "2                            Action|Adventure  1989  \n",
       "3                               Drama|Musical  1982  \n",
       "4                   Action|Adventure|Thriller  1963  \n",
       "5                   Action|Adventure|Thriller  1964  \n",
       "6                            Action|Drama|War  1967  \n",
       "7                Adventure|Animation|Children  1939  \n",
       "8                               Drama|Romance  1999  \n",
       "9                    Animation|Comedy|Musical  1999  \n",
       "10                    Action|Adventure|Comedy  1997  \n",
       "11                Action|Crime|Drama|Thriller  1997  \n",
       "12                   Action|Adventure|Fantasy  1982  \n",
       "13           Crime|Film-Noir|Mystery|Thriller  1997  \n",
       "14  Adventure|Animation|Children|Drama|Sci-Fi  1999  "
      ]
     },
     "execution_count": 21,
     "metadata": {},
     "output_type": "execute_result"
    }
   ],
   "source": [
    "old_SVD.head(15)"
   ]
  },
  {
   "cell_type": "code",
   "execution_count": null,
   "id": "dfa4a782",
   "metadata": {},
   "outputs": [],
   "source": [
    "pred_SVD"
   ]
  },
  {
   "cell_type": "code",
   "execution_count": null,
   "id": "5edfb76b",
   "metadata": {},
   "outputs": [],
   "source": [
    "plot_rmse(pred_SVD,\"SVD\")"
   ]
  }
 ],
 "metadata": {
  "kernelspec": {
   "display_name": "Python 3 (ipykernel)",
   "language": "python",
   "name": "python3"
  },
  "language_info": {
   "codemirror_mode": {
    "name": "ipython",
    "version": 3
   },
   "file_extension": ".py",
   "mimetype": "text/x-python",
   "name": "python",
   "nbconvert_exporter": "python",
   "pygments_lexer": "ipython3",
   "version": "3.9.16"
  }
 },
 "nbformat": 4,
 "nbformat_minor": 5
}
